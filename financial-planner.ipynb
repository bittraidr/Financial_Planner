{
 "cells": [
  {
   "cell_type": "markdown",
   "metadata": {},
   "source": [
    "# Unit 5 - Financial Planning"
   ]
  },
  {
   "cell_type": "code",
   "execution_count": 38,
   "metadata": {},
   "outputs": [],
   "source": [
    "# Initial imports\n",
    "import os\n",
    "import requests\n",
    "import pandas as pd\n",
    "from dotenv import load_dotenv\n",
    "import alpaca_trade_api as tradeapi\n",
    "from MCForecastTools import MCSimulation\n",
    "\n",
    "%matplotlib inline"
   ]
  },
  {
   "cell_type": "code",
   "execution_count": 39,
   "metadata": {},
   "outputs": [
    {
     "data": {
      "text/plain": [
       "False"
      ]
     },
     "execution_count": 39,
     "metadata": {},
     "output_type": "execute_result"
    }
   ],
   "source": [
    "# Load .env enviroment variables\n",
    "load_dotenv('api.env')"
   ]
  },
  {
   "cell_type": "markdown",
   "metadata": {},
   "source": [
    "## Part 1 - Personal Finance Planner"
   ]
  },
  {
   "cell_type": "markdown",
   "metadata": {},
   "source": [
    "### Collect Crypto Prices Using the `requests` Library"
   ]
  },
  {
   "cell_type": "code",
   "execution_count": 40,
   "metadata": {},
   "outputs": [],
   "source": [
    "# Set current amount of crypto assets\n",
    "btc_hodl = 1.2\n",
    "eth_hodl = 5.3"
   ]
  },
  {
   "cell_type": "code",
   "execution_count": 41,
   "metadata": {},
   "outputs": [],
   "source": [
    "# Crypto API URLs\n",
    "btc_url = \"https://api.alternative.me/v2/ticker/Bitcoin/?convert=USD\"\n",
    "eth_url = \"https://api.alternative.me/v2/ticker/Ethereum/?convert=USD\""
   ]
  },
  {
   "cell_type": "code",
   "execution_count": 59,
   "metadata": {},
   "outputs": [
    {
     "name": "stdout",
     "output_type": "stream",
     "text": [
      "The current value of your 1.2 BTC is $36324.00\n",
      "The current value of your 5.3 ETH is $10223.86\n",
      "46547.859\n"
     ]
    }
   ],
   "source": [
    "# Fetch current BTC price\n",
    "my_btc = requests.get(btc_url).json()\n",
    "my_btc_price = my_btc['data']['1']['quotes']['USD']['price']\n",
    "# print(my_btc_price)\n",
    "\n",
    "# Fetch current ETH price\n",
    "my_eth = requests.get(eth_url).json()\n",
    "my_eth_price = my_eth['data']['1027']['quotes']['USD']['price']\n",
    "# print(my_eth_price)\n",
    "\n",
    "# Compute current value of my crpto\n",
    "my_btc_value = my_btc_price * btc_hodl\n",
    "my_eth_value = my_eth_price * eth_hodl\n",
    "my_crypto_value = my_btc_value + my_eth_value\n",
    "\n",
    "# Print current crypto wallet balance\n",
    "print(f\"The current value of your {btc_hodl} BTC is ${my_btc_value:0.2f}\")\n",
    "print(f\"The current value of your {eth_hodl} ETH is ${my_eth_value:0.2f}\")\n",
    "print(my_crypto_value)"
   ]
  },
  {
   "cell_type": "markdown",
   "metadata": {},
   "source": [
    "### Collect Investments Data Using Alpaca: `SPY` (stocks) and `AGG` (bonds)"
   ]
  },
  {
   "cell_type": "code",
   "execution_count": 43,
   "metadata": {},
   "outputs": [],
   "source": [
    "# Set current amount of shares\n",
    "my_agg = 200\n",
    "my_spy = 50"
   ]
  },
  {
   "cell_type": "code",
   "execution_count": 44,
   "metadata": {},
   "outputs": [],
   "source": [
    "# Set Alpaca API key and secret\n",
    "alpaca_api_key = os.getenv(\"ALPACA_API_KEY\")\n",
    "alpaca_secret_key = os.getenv(\"ALPACA_SECRET_KEY\")\n",
    "\n",
    "# Create the Alpaca API object\n",
    "alpaca = tradeapi.REST(\n",
    "    alpaca_api_key,\n",
    "    alpaca_secret_key,\n",
    "    api_version=\"v2\")\n",
    "\n"
   ]
  },
  {
   "cell_type": "code",
   "execution_count": 54,
   "metadata": {},
   "outputs": [
    {
     "data": {
      "text/html": [
       "<div>\n",
       "<style scoped>\n",
       "    .dataframe tbody tr th:only-of-type {\n",
       "        vertical-align: middle;\n",
       "    }\n",
       "\n",
       "    .dataframe tbody tr th {\n",
       "        vertical-align: top;\n",
       "    }\n",
       "\n",
       "    .dataframe thead th {\n",
       "        text-align: right;\n",
       "    }\n",
       "</style>\n",
       "<table border=\"1\" class=\"dataframe\">\n",
       "  <thead>\n",
       "    <tr style=\"text-align: right;\">\n",
       "      <th></th>\n",
       "      <th>open</th>\n",
       "      <th>high</th>\n",
       "      <th>low</th>\n",
       "      <th>close</th>\n",
       "      <th>volume</th>\n",
       "      <th>trade_count</th>\n",
       "      <th>vwap</th>\n",
       "      <th>symbol</th>\n",
       "      <th>open</th>\n",
       "      <th>high</th>\n",
       "      <th>low</th>\n",
       "      <th>close</th>\n",
       "      <th>volume</th>\n",
       "      <th>trade_count</th>\n",
       "      <th>vwap</th>\n",
       "      <th>symbol</th>\n",
       "    </tr>\n",
       "    <tr>\n",
       "      <th>timestamp</th>\n",
       "      <th></th>\n",
       "      <th></th>\n",
       "      <th></th>\n",
       "      <th></th>\n",
       "      <th></th>\n",
       "      <th></th>\n",
       "      <th></th>\n",
       "      <th></th>\n",
       "      <th></th>\n",
       "      <th></th>\n",
       "      <th></th>\n",
       "      <th></th>\n",
       "      <th></th>\n",
       "      <th></th>\n",
       "      <th></th>\n",
       "      <th></th>\n",
       "    </tr>\n",
       "  </thead>\n",
       "  <tbody>\n",
       "    <tr>\n",
       "      <th>2020-08-07 04:00:00+00:00</th>\n",
       "      <td>119.66</td>\n",
       "      <td>119.73</td>\n",
       "      <td>119.395</td>\n",
       "      <td>119.43</td>\n",
       "      <td>5559066</td>\n",
       "      <td>15246</td>\n",
       "      <td>119.475306</td>\n",
       "      <td>AGG</td>\n",
       "      <td>333.28</td>\n",
       "      <td>334.88</td>\n",
       "      <td>332.3</td>\n",
       "      <td>334.57</td>\n",
       "      <td>57282821</td>\n",
       "      <td>350100</td>\n",
       "      <td>333.800372</td>\n",
       "      <td>SPY</td>\n",
       "    </tr>\n",
       "  </tbody>\n",
       "</table>\n",
       "</div>"
      ],
      "text/plain": [
       "                             open    high      low   close   volume  \\\n",
       "timestamp                                                             \n",
       "2020-08-07 04:00:00+00:00  119.66  119.73  119.395  119.43  5559066   \n",
       "\n",
       "                           trade_count        vwap symbol    open    high  \\\n",
       "timestamp                                                                   \n",
       "2020-08-07 04:00:00+00:00        15246  119.475306    AGG  333.28  334.88   \n",
       "\n",
       "                             low   close    volume  trade_count        vwap  \\\n",
       "timestamp                                                                     \n",
       "2020-08-07 04:00:00+00:00  332.3  334.57  57282821       350100  333.800372   \n",
       "\n",
       "                          symbol  \n",
       "timestamp                         \n",
       "2020-08-07 04:00:00+00:00    SPY  "
      ]
     },
     "execution_count": 54,
     "metadata": {},
     "output_type": "execute_result"
    }
   ],
   "source": [
    "# Format current date as ISO format\n",
    "start = pd.Timestamp(\"2020-08-07\", tz=\"America/New_York\").isoformat()\n",
    "end = pd.Timestamp(\"2020-08-07\", tz=\"America/New_York\").isoformat()\n",
    "\n",
    "# Set the tickers\n",
    "tickers = [\"AGG\", \"SPY\"]\n",
    "\n",
    "# Set timeframe to \"1Day\" for Alpaca API\n",
    "timeframe = \"1Day\"\n",
    "\n",
    "# Get current closing prices for SPY and AGG\n",
    "df_closing = alpaca.get_bars(\n",
    "    tickers,\n",
    "    timeframe,\n",
    "    start = start,\n",
    "    end = end\n",
    ").df\n",
    "\n",
    "# Display sample data\n",
    "# df_closing.head(10)\n",
    "\n",
    "# Display first 10 rows of AGG and SPY side by side\n",
    "df_agg = df_closing[df_closing['symbol'] == \"AGG\"].head()\n",
    "df_spy = df_closing[df_closing['symbol'] == \"SPY\"].head()\n",
    "\n",
    "# Concatenate the DataFrames side by side\n",
    "df_combined = pd.concat([df_agg, df_spy], axis=1)\n",
    "\n",
    "# Display the combined DataFrame\n",
    "df_combined.head()\n"
   ]
  },
  {
   "cell_type": "code",
   "execution_count": 56,
   "metadata": {},
   "outputs": [
    {
     "name": "stdout",
     "output_type": "stream",
     "text": [
      "Current AGG closing price: $timestamp\n",
      "2020-08-07 04:00:00+00:00    119.43\n",
      "Name: close, dtype: float64\n",
      "Current SPY closing price: $timestamp\n",
      "2020-08-07 04:00:00+00:00    334.57\n",
      "Name: close, dtype: float64\n"
     ]
    }
   ],
   "source": [
    "# Pick AGG and SPY close prices\n",
    "\n",
    "agg_close_price = df_closing[df_closing['symbol'] == \"AGG\"]['close'].head(10)\n",
    "spy_close_price = df_closing[df_closing['symbol'] == \"SPY\"]['close'].head(10)\n",
    "# Print AGG and SPY close prices\n",
    "print(f\"Current AGG closing price: ${agg_close_price}\")\n",
    "print(f\"Current SPY closing price: ${spy_close_price}\")"
   ]
  },
  {
   "cell_type": "code",
   "execution_count": 60,
   "metadata": {},
   "outputs": [
    {
     "name": "stdout",
     "output_type": "stream",
     "text": [
      "40614.5\n",
      "The current value of your 50 SPY shares is $16728.50\n",
      "The current value of your 200 AGG shares is $23886.00\n"
     ]
    }
   ],
   "source": [
    "# Compute the current value of shares\n",
    "agg_shares_value = df_agg * my_agg\n",
    "spy_shares_value = df_spy * my_spy\n",
    "\n",
    "# print(spy_shares_value)\n",
    "# print(agg_shares_value)\n",
    "\n",
    "# Access the first value from each Series\n",
    "agg_shares_value = agg_shares_value.iloc[0]\n",
    "spy_shares_value = spy_shares_value.iloc[0]\n",
    "\n",
    "total_shares_value = agg_shares_value + spy_shares_value\n",
    "print(total_shares_value)\n",
    "# Print current value of shares\n",
    "print(f\"The current value of your {my_spy} SPY shares is ${spy_shares_value:0.2f}\")\n",
    "print(f\"The current value of your {my_agg} AGG shares is ${agg_shares_value:0.2f}\")"
   ]
  },
  {
   "cell_type": "markdown",
   "metadata": {},
   "source": [
    "### Savings Health Analysis"
   ]
  },
  {
   "cell_type": "code",
   "execution_count": 63,
   "metadata": {},
   "outputs": [
    {
     "data": {
      "text/html": [
       "<div>\n",
       "<style scoped>\n",
       "    .dataframe tbody tr th:only-of-type {\n",
       "        vertical-align: middle;\n",
       "    }\n",
       "\n",
       "    .dataframe tbody tr th {\n",
       "        vertical-align: top;\n",
       "    }\n",
       "\n",
       "    .dataframe thead th {\n",
       "        text-align: right;\n",
       "    }\n",
       "</style>\n",
       "<table border=\"1\" class=\"dataframe\">\n",
       "  <thead>\n",
       "    <tr style=\"text-align: right;\">\n",
       "      <th></th>\n",
       "      <th>Value</th>\n",
       "    </tr>\n",
       "  </thead>\n",
       "  <tbody>\n",
       "    <tr>\n",
       "      <th>my_crypto_value</th>\n",
       "      <td>46547.859</td>\n",
       "    </tr>\n",
       "    <tr>\n",
       "      <th>total_shares_value</th>\n",
       "      <td>40614.500</td>\n",
       "    </tr>\n",
       "  </tbody>\n",
       "</table>\n",
       "</div>"
      ],
      "text/plain": [
       "                        Value\n",
       "my_crypto_value     46547.859\n",
       "total_shares_value  40614.500"
      ]
     },
     "metadata": {},
     "output_type": "display_data"
    }
   ],
   "source": [
    "# Set monthly household income\n",
    "monthly_income = 12000\n",
    "\n",
    "# Consolidate financial assets data\n",
    "savings_data = [my_crypto_value, total_shares_value] \n",
    "\n",
    "# Create savings DataFrame\n",
    "savings_df = pd.DataFrame(savings_data, index=['my_crypto_value', 'total_shares_value'], columns=['Value'])\n",
    "\n",
    "\n",
    "# Display savings DataFrame\n",
    "display(savings_df)"
   ]
  },
  {
   "cell_type": "code",
   "execution_count": 68,
   "metadata": {},
   "outputs": [
    {
     "data": {
      "text/plain": [
       "<Axes: ylabel='Value'>"
      ]
     },
     "execution_count": 68,
     "metadata": {},
     "output_type": "execute_result"
    },
    {
     "data": {
      "image/png": "[encoded data removed]",
      "text/plain": [
       "<Figure size 800x800 with 1 Axes>"
      ]
     },
     "metadata": {},
     "output_type": "display_data"
    }
   ],
   "source": [
    "# Plot savings pie chart\n",
    "savings_df.plot(kind='pie', y='Value', legend=False, figsize=(8, 8))"
   ]
  },
  {
   "cell_type": "code",
   "execution_count": 197,
   "metadata": {},
   "outputs": [
    {
     "name": "stdout",
     "output_type": "stream",
     "text": [
      "36000\n",
      "87162.359\n",
      "Congrats! You have enough $87162.359 in your fund!\n"
     ]
    }
   ],
   "source": [
    "# Set ideal emergency fund\n",
    "emergency_fund = monthly_income * 3\n",
    "print(emergency_fund)\n",
    "# Calculate total amount of savings\n",
    "total_savings = my_crypto_value + total_shares_value\n",
    "print(total_savings)\n",
    "\n",
    "# Validate saving health\n",
    "if total_savings > emergency_fund:\n",
    "    print(f\"Congrats! You have enough ${total_savings} in your fund!\")\n",
    "elif total_savings == emergency_fund:\n",
    "    print(f\"Congrats! You have reached your goal!\")\n",
    "else:\n",
    "    print(f\"You are ${total_savings - emergency_fund} from your goal!\")"
   ]
  },
  {
   "cell_type": "markdown",
   "metadata": {},
   "source": [
    "## Part 2 - Retirement Planning\n",
    "\n",
    "### Monte Carlo Simulation"
   ]
  },
  {
   "cell_type": "code",
   "execution_count": 214,
   "metadata": {},
   "outputs": [],
   "source": [
    "# Set start and end dates of five years back from today.\n",
    "# Sample results may vary from the solution based on the time frame chosen\n",
    "start_date = pd.Timestamp('2018-05-01', tz='America/New_York').isoformat()\n",
    "end_date = pd.Timestamp('2023-05-01', tz='America/New_York').isoformat()"
   ]
  },
  {
   "cell_type": "code",
   "execution_count": 226,
   "metadata": {},
   "outputs": [],
   "source": [
    "# Get 5 years' worth of historical data for SPY and AGG\n",
    "# Set the tickers\n",
    "tickers = [\"AGG\", \"SPY\"]\n",
    "\n",
    "# Set timeframe to \"1Day\" for Alpaca API\n",
    "timeframe = \"1Day\"\n",
    "\n",
    "# Get current closing prices for SPY and AGG\n",
    "df_closing_five = alpaca.get_bars(\n",
    "    tickers,\n",
    "    timeframe,\n",
    "    start = start_date,\n",
    "    end = end_date\n",
    ").df\n",
    "\n",
    "# print(df_closing_five)\n",
    "\n",
    "# Reorganize the DataFrame\n",
    "\n",
    "# Separate ticker data\n",
    "df_agg_five = df_closing_five[df_closing_five['symbol'] == \"AGG\"].drop('symbol', axis=1)\n",
    "df_spy_five = df_closing_five[df_closing_five['symbol'] == \"SPY\"].drop('symbol', axis=1)\n",
    "\n",
    "\n",
    "# Concatenate the DataFrames side by side\n",
    "df_combined_five = pd.concat([df_spy_five, df_agg_five], axis=1, keys=['AAG', 'SPY']).head()\n",
    "\n",
    "# Display the combined DataFrame\n"
   ]
  },
  {
   "cell_type": "code",
   "execution_count": 227,
   "metadata": {},
   "outputs": [],
   "source": [
    "# Configuring a Monte Carlo simulation to forecast 30 years cumulative returns\n",
    "num_sims = 500\n",
    "\n",
    "mc_simulation = MCSimulation(\n",
    "    portfolio_data = df_combined_five,\n",
    "    weights = [0.60, 0.40],\n",
    "    num_simulation = num_sims,\n",
    "    num_trading_days = 252 * 30\n",
    ")\n"
   ]
  },
  {
   "cell_type": "code",
   "execution_count": 228,
   "metadata": {},
   "outputs": [
    {
     "name": "stdout",
     "output_type": "stream",
     "text": [
      "<MCForecastTools.MCSimulation object at 0x000001BDA5F96D50>\n"
     ]
    }
   ],
   "source": [
    "# Printing the simulation input data\n",
    "print(mc_simulation)"
   ]
  },
  {
   "cell_type": "code",
   "execution_count": 229,
   "metadata": {
    "collapsed": true,
    "jupyter": {
     "outputs_hidden": true,
     "source_hidden": true
    },
    "tags": []
   },
   "outputs": [
    {
     "name": "stdout",
     "output_type": "stream",
     "text": [
      "Running Monte Carlo simulation number 0.\n",
      "Running Monte Carlo simulation number 10.\n",
      "Running Monte Carlo simulation number 20.\n",
      "Running Monte Carlo simulation number 30.\n",
      "Running Monte Carlo simulation number 40.\n",
      "Running Monte Carlo simulation number 50.\n",
      "Running Monte Carlo simulation number 60.\n",
      "Running Monte Carlo simulation number 70.\n",
      "Running Monte Carlo simulation number 80.\n",
      "Running Monte Carlo simulation number 90.\n",
      "Running Monte Carlo simulation number 100.\n",
      "Running Monte Carlo simulation number 110.\n",
      "Running Monte Carlo simulation number 120.\n",
      "Running Monte Carlo simulation number 130.\n",
      "Running Monte Carlo simulation number 140.\n",
      "Running Monte Carlo simulation number 150.\n",
      "Running Monte Carlo simulation number 160.\n",
      "Running Monte Carlo simulation number 170.\n",
      "Running Monte Carlo simulation number 180.\n",
      "Running Monte Carlo simulation number 190.\n",
      "Running Monte Carlo simulation number 200.\n",
      "Running Monte Carlo simulation number 210.\n",
      "Running Monte Carlo simulation number 220.\n",
      "Running Monte Carlo simulation number 230.\n",
      "Running Monte Carlo simulation number 240.\n",
      "Running Monte Carlo simulation number 250.\n",
      "Running Monte Carlo simulation number 260.\n",
      "Running Monte Carlo simulation number 270.\n",
      "Running Monte Carlo simulation number 280.\n",
      "Running Monte Carlo simulation number 290.\n",
      "Running Monte Carlo simulation number 300.\n",
      "Running Monte Carlo simulation number 310.\n",
      "Running Monte Carlo simulation number 320.\n",
      "Running Monte Carlo simulation number 330.\n",
      "Running Monte Carlo simulation number 340.\n",
      "Running Monte Carlo simulation number 350.\n",
      "Running Monte Carlo simulation number 360.\n",
      "Running Monte Carlo simulation number 370.\n",
      "Running Monte Carlo simulation number 380.\n",
      "Running Monte Carlo simulation number 390.\n",
      "Running Monte Carlo simulation number 400.\n",
      "Running Monte Carlo simulation number 410.\n",
      "Running Monte Carlo simulation number 420.\n",
      "Running Monte Carlo simulation number 430.\n",
      "Running Monte Carlo simulation number 440.\n",
      "Running Monte Carlo simulation number 450.\n",
      "Running Monte Carlo simulation number 460.\n",
      "Running Monte Carlo simulation number 470.\n",
      "Running Monte Carlo simulation number 480.\n",
      "Running Monte Carlo simulation number 490.\n"
     ]
    },
    {
     "data": {
      "text/html": [
       "<div>\n",
       "<style scoped>\n",
       "    .dataframe tbody tr th:only-of-type {\n",
       "        vertical-align: middle;\n",
       "    }\n",
       "\n",
       "    .dataframe tbody tr th {\n",
       "        vertical-align: top;\n",
       "    }\n",
       "\n",
       "    .dataframe thead th {\n",
       "        text-align: right;\n",
       "    }\n",
       "</style>\n",
       "<table border=\"1\" class=\"dataframe\">\n",
       "  <thead>\n",
       "    <tr style=\"text-align: right;\">\n",
       "      <th></th>\n",
       "      <th>0</th>\n",
       "      <th>1</th>\n",
       "      <th>2</th>\n",
       "      <th>3</th>\n",
       "      <th>4</th>\n",
       "      <th>5</th>\n",
       "      <th>6</th>\n",
       "      <th>7</th>\n",
       "      <th>8</th>\n",
       "      <th>9</th>\n",
       "      <th>...</th>\n",
       "      <th>490</th>\n",
       "      <th>491</th>\n",
       "      <th>492</th>\n",
       "      <th>493</th>\n",
       "      <th>494</th>\n",
       "      <th>495</th>\n",
       "      <th>496</th>\n",
       "      <th>497</th>\n",
       "      <th>498</th>\n",
       "      <th>499</th>\n",
       "    </tr>\n",
       "  </thead>\n",
       "  <tbody>\n",
       "    <tr>\n",
       "      <th>0</th>\n",
       "      <td>1.000000e+00</td>\n",
       "      <td>1.000000e+00</td>\n",
       "      <td>1.000000e+00</td>\n",
       "      <td>1.000000e+00</td>\n",
       "      <td>1.000000e+00</td>\n",
       "      <td>1.000000e+00</td>\n",
       "      <td>1.000000e+00</td>\n",
       "      <td>1.000000e+00</td>\n",
       "      <td>1.000000e+00</td>\n",
       "      <td>1.000000e+00</td>\n",
       "      <td>...</td>\n",
       "      <td>1.000000e+00</td>\n",
       "      <td>1.000000e+00</td>\n",
       "      <td>1.000000e+00</td>\n",
       "      <td>1.000000e+00</td>\n",
       "      <td>1.000000e+00</td>\n",
       "      <td>1.000000e+00</td>\n",
       "      <td>1.000000e+00</td>\n",
       "      <td>1.000000e+00</td>\n",
       "      <td>1.000000e+00</td>\n",
       "      <td>1.000000e+00</td>\n",
       "    </tr>\n",
       "    <tr>\n",
       "      <th>1</th>\n",
       "      <td>1.001334e+00</td>\n",
       "      <td>9.988390e-01</td>\n",
       "      <td>1.001187e+00</td>\n",
       "      <td>9.997128e-01</td>\n",
       "      <td>1.005953e+00</td>\n",
       "      <td>1.002623e+00</td>\n",
       "      <td>1.007623e+00</td>\n",
       "      <td>1.001644e+00</td>\n",
       "      <td>1.002805e+00</td>\n",
       "      <td>1.001917e+00</td>\n",
       "      <td>...</td>\n",
       "      <td>1.007872e+00</td>\n",
       "      <td>1.016354e+00</td>\n",
       "      <td>1.004883e+00</td>\n",
       "      <td>1.007124e+00</td>\n",
       "      <td>1.004586e+00</td>\n",
       "      <td>1.005473e+00</td>\n",
       "      <td>1.003231e+00</td>\n",
       "      <td>1.014281e+00</td>\n",
       "      <td>9.961420e-01</td>\n",
       "      <td>9.958262e-01</td>\n",
       "    </tr>\n",
       "    <tr>\n",
       "      <th>2</th>\n",
       "      <td>9.988976e-01</td>\n",
       "      <td>1.003694e+00</td>\n",
       "      <td>9.947132e-01</td>\n",
       "      <td>1.000602e+00</td>\n",
       "      <td>1.006398e+00</td>\n",
       "      <td>1.012255e+00</td>\n",
       "      <td>1.011725e+00</td>\n",
       "      <td>1.003798e+00</td>\n",
       "      <td>9.986843e-01</td>\n",
       "      <td>1.005114e+00</td>\n",
       "      <td>...</td>\n",
       "      <td>1.012304e+00</td>\n",
       "      <td>1.022715e+00</td>\n",
       "      <td>1.011699e+00</td>\n",
       "      <td>1.013835e+00</td>\n",
       "      <td>1.005768e+00</td>\n",
       "      <td>1.014376e+00</td>\n",
       "      <td>9.978656e-01</td>\n",
       "      <td>1.012860e+00</td>\n",
       "      <td>9.960553e-01</td>\n",
       "      <td>1.001229e+00</td>\n",
       "    </tr>\n",
       "    <tr>\n",
       "      <th>3</th>\n",
       "      <td>9.941058e-01</td>\n",
       "      <td>1.004722e+00</td>\n",
       "      <td>9.891398e-01</td>\n",
       "      <td>1.000890e+00</td>\n",
       "      <td>1.016023e+00</td>\n",
       "      <td>1.005527e+00</td>\n",
       "      <td>1.013449e+00</td>\n",
       "      <td>1.013946e+00</td>\n",
       "      <td>1.006408e+00</td>\n",
       "      <td>1.010768e+00</td>\n",
       "      <td>...</td>\n",
       "      <td>1.014485e+00</td>\n",
       "      <td>1.026560e+00</td>\n",
       "      <td>1.012053e+00</td>\n",
       "      <td>1.017558e+00</td>\n",
       "      <td>1.003882e+00</td>\n",
       "      <td>1.027609e+00</td>\n",
       "      <td>9.954357e-01</td>\n",
       "      <td>1.016906e+00</td>\n",
       "      <td>9.978333e-01</td>\n",
       "      <td>1.000133e+00</td>\n",
       "    </tr>\n",
       "    <tr>\n",
       "      <th>4</th>\n",
       "      <td>1.001859e+00</td>\n",
       "      <td>1.009237e+00</td>\n",
       "      <td>9.847898e-01</td>\n",
       "      <td>1.008447e+00</td>\n",
       "      <td>1.027967e+00</td>\n",
       "      <td>1.005291e+00</td>\n",
       "      <td>1.018009e+00</td>\n",
       "      <td>1.011485e+00</td>\n",
       "      <td>1.004513e+00</td>\n",
       "      <td>1.004759e+00</td>\n",
       "      <td>...</td>\n",
       "      <td>1.025658e+00</td>\n",
       "      <td>1.020679e+00</td>\n",
       "      <td>1.015404e+00</td>\n",
       "      <td>1.021386e+00</td>\n",
       "      <td>1.001096e+00</td>\n",
       "      <td>1.033197e+00</td>\n",
       "      <td>9.985599e-01</td>\n",
       "      <td>1.015887e+00</td>\n",
       "      <td>9.972356e-01</td>\n",
       "      <td>1.006799e+00</td>\n",
       "    </tr>\n",
       "    <tr>\n",
       "      <th>...</th>\n",
       "      <td>...</td>\n",
       "      <td>...</td>\n",
       "      <td>...</td>\n",
       "      <td>...</td>\n",
       "      <td>...</td>\n",
       "      <td>...</td>\n",
       "      <td>...</td>\n",
       "      <td>...</td>\n",
       "      <td>...</td>\n",
       "      <td>...</td>\n",
       "      <td>...</td>\n",
       "      <td>...</td>\n",
       "      <td>...</td>\n",
       "      <td>...</td>\n",
       "      <td>...</td>\n",
       "      <td>...</td>\n",
       "      <td>...</td>\n",
       "      <td>...</td>\n",
       "      <td>...</td>\n",
       "      <td>...</td>\n",
       "      <td>...</td>\n",
       "    </tr>\n",
       "    <tr>\n",
       "      <th>7556</th>\n",
       "      <td>6.793980e+07</td>\n",
       "      <td>1.705305e+08</td>\n",
       "      <td>7.530100e+07</td>\n",
       "      <td>1.675040e+08</td>\n",
       "      <td>7.827075e+07</td>\n",
       "      <td>3.610748e+08</td>\n",
       "      <td>1.646252e+08</td>\n",
       "      <td>1.247107e+08</td>\n",
       "      <td>1.273792e+08</td>\n",
       "      <td>1.006754e+08</td>\n",
       "      <td>...</td>\n",
       "      <td>1.416629e+08</td>\n",
       "      <td>1.191222e+08</td>\n",
       "      <td>2.809703e+08</td>\n",
       "      <td>5.937668e+07</td>\n",
       "      <td>2.322136e+08</td>\n",
       "      <td>1.990887e+08</td>\n",
       "      <td>9.479800e+07</td>\n",
       "      <td>1.223854e+08</td>\n",
       "      <td>1.632857e+08</td>\n",
       "      <td>1.717408e+08</td>\n",
       "    </tr>\n",
       "    <tr>\n",
       "      <th>7557</th>\n",
       "      <td>6.811142e+07</td>\n",
       "      <td>1.706065e+08</td>\n",
       "      <td>7.548978e+07</td>\n",
       "      <td>1.664883e+08</td>\n",
       "      <td>7.821113e+07</td>\n",
       "      <td>3.630944e+08</td>\n",
       "      <td>1.649855e+08</td>\n",
       "      <td>1.245857e+08</td>\n",
       "      <td>1.280389e+08</td>\n",
       "      <td>1.009002e+08</td>\n",
       "      <td>...</td>\n",
       "      <td>1.421327e+08</td>\n",
       "      <td>1.197803e+08</td>\n",
       "      <td>2.812020e+08</td>\n",
       "      <td>5.983745e+07</td>\n",
       "      <td>2.310019e+08</td>\n",
       "      <td>2.005506e+08</td>\n",
       "      <td>9.581206e+07</td>\n",
       "      <td>1.232169e+08</td>\n",
       "      <td>1.642004e+08</td>\n",
       "      <td>1.724279e+08</td>\n",
       "    </tr>\n",
       "    <tr>\n",
       "      <th>7558</th>\n",
       "      <td>6.840326e+07</td>\n",
       "      <td>1.693824e+08</td>\n",
       "      <td>7.639390e+07</td>\n",
       "      <td>1.665905e+08</td>\n",
       "      <td>7.928871e+07</td>\n",
       "      <td>3.662738e+08</td>\n",
       "      <td>1.663058e+08</td>\n",
       "      <td>1.247482e+08</td>\n",
       "      <td>1.284454e+08</td>\n",
       "      <td>1.001656e+08</td>\n",
       "      <td>...</td>\n",
       "      <td>1.418947e+08</td>\n",
       "      <td>1.199444e+08</td>\n",
       "      <td>2.845915e+08</td>\n",
       "      <td>6.023243e+07</td>\n",
       "      <td>2.312591e+08</td>\n",
       "      <td>1.997269e+08</td>\n",
       "      <td>9.535665e+07</td>\n",
       "      <td>1.233077e+08</td>\n",
       "      <td>1.643130e+08</td>\n",
       "      <td>1.731842e+08</td>\n",
       "    </tr>\n",
       "    <tr>\n",
       "      <th>7559</th>\n",
       "      <td>6.859198e+07</td>\n",
       "      <td>1.696320e+08</td>\n",
       "      <td>7.671192e+07</td>\n",
       "      <td>1.675757e+08</td>\n",
       "      <td>7.997369e+07</td>\n",
       "      <td>3.686755e+08</td>\n",
       "      <td>1.678820e+08</td>\n",
       "      <td>1.244887e+08</td>\n",
       "      <td>1.289960e+08</td>\n",
       "      <td>1.008676e+08</td>\n",
       "      <td>...</td>\n",
       "      <td>1.423463e+08</td>\n",
       "      <td>1.200397e+08</td>\n",
       "      <td>2.854760e+08</td>\n",
       "      <td>6.017001e+07</td>\n",
       "      <td>2.330655e+08</td>\n",
       "      <td>1.996794e+08</td>\n",
       "      <td>9.506769e+07</td>\n",
       "      <td>1.233609e+08</td>\n",
       "      <td>1.654313e+08</td>\n",
       "      <td>1.733959e+08</td>\n",
       "    </tr>\n",
       "    <tr>\n",
       "      <th>7560</th>\n",
       "      <td>6.852658e+07</td>\n",
       "      <td>1.682970e+08</td>\n",
       "      <td>7.689242e+07</td>\n",
       "      <td>1.680296e+08</td>\n",
       "      <td>8.031274e+07</td>\n",
       "      <td>3.720924e+08</td>\n",
       "      <td>1.678814e+08</td>\n",
       "      <td>1.252130e+08</td>\n",
       "      <td>1.294228e+08</td>\n",
       "      <td>1.012011e+08</td>\n",
       "      <td>...</td>\n",
       "      <td>1.421377e+08</td>\n",
       "      <td>1.197869e+08</td>\n",
       "      <td>2.855755e+08</td>\n",
       "      <td>6.041001e+07</td>\n",
       "      <td>2.340002e+08</td>\n",
       "      <td>2.007236e+08</td>\n",
       "      <td>9.475408e+07</td>\n",
       "      <td>1.247861e+08</td>\n",
       "      <td>1.669053e+08</td>\n",
       "      <td>1.740919e+08</td>\n",
       "    </tr>\n",
       "  </tbody>\n",
       "</table>\n",
       "<p>7561 rows × 500 columns</p>\n",
       "</div>"
      ],
      "text/plain": [
       "               0             1             2             3             4    \\\n",
       "0     1.000000e+00  1.000000e+00  1.000000e+00  1.000000e+00  1.000000e+00   \n",
       "1     1.001334e+00  9.988390e-01  1.001187e+00  9.997128e-01  1.005953e+00   \n",
       "2     9.988976e-01  1.003694e+00  9.947132e-01  1.000602e+00  1.006398e+00   \n",
       "3     9.941058e-01  1.004722e+00  9.891398e-01  1.000890e+00  1.016023e+00   \n",
       "4     1.001859e+00  1.009237e+00  9.847898e-01  1.008447e+00  1.027967e+00   \n",
       "...            ...           ...           ...           ...           ...   \n",
       "7556  6.793980e+07  1.705305e+08  7.530100e+07  1.675040e+08  7.827075e+07   \n",
       "7557  6.811142e+07  1.706065e+08  7.548978e+07  1.664883e+08  7.821113e+07   \n",
       "7558  6.840326e+07  1.693824e+08  7.639390e+07  1.665905e+08  7.928871e+07   \n",
       "7559  6.859198e+07  1.696320e+08  7.671192e+07  1.675757e+08  7.997369e+07   \n",
       "7560  6.852658e+07  1.682970e+08  7.689242e+07  1.680296e+08  8.031274e+07   \n",
       "\n",
       "               5             6             7             8             9    \\\n",
       "0     1.000000e+00  1.000000e+00  1.000000e+00  1.000000e+00  1.000000e+00   \n",
       "1     1.002623e+00  1.007623e+00  1.001644e+00  1.002805e+00  1.001917e+00   \n",
       "2     1.012255e+00  1.011725e+00  1.003798e+00  9.986843e-01  1.005114e+00   \n",
       "3     1.005527e+00  1.013449e+00  1.013946e+00  1.006408e+00  1.010768e+00   \n",
       "4     1.005291e+00  1.018009e+00  1.011485e+00  1.004513e+00  1.004759e+00   \n",
       "...            ...           ...           ...           ...           ...   \n",
       "7556  3.610748e+08  1.646252e+08  1.247107e+08  1.273792e+08  1.006754e+08   \n",
       "7557  3.630944e+08  1.649855e+08  1.245857e+08  1.280389e+08  1.009002e+08   \n",
       "7558  3.662738e+08  1.663058e+08  1.247482e+08  1.284454e+08  1.001656e+08   \n",
       "7559  3.686755e+08  1.678820e+08  1.244887e+08  1.289960e+08  1.008676e+08   \n",
       "7560  3.720924e+08  1.678814e+08  1.252130e+08  1.294228e+08  1.012011e+08   \n",
       "\n",
       "      ...           490           491           492           493  \\\n",
       "0     ...  1.000000e+00  1.000000e+00  1.000000e+00  1.000000e+00   \n",
       "1     ...  1.007872e+00  1.016354e+00  1.004883e+00  1.007124e+00   \n",
       "2     ...  1.012304e+00  1.022715e+00  1.011699e+00  1.013835e+00   \n",
       "3     ...  1.014485e+00  1.026560e+00  1.012053e+00  1.017558e+00   \n",
       "4     ...  1.025658e+00  1.020679e+00  1.015404e+00  1.021386e+00   \n",
       "...   ...           ...           ...           ...           ...   \n",
       "7556  ...  1.416629e+08  1.191222e+08  2.809703e+08  5.937668e+07   \n",
       "7557  ...  1.421327e+08  1.197803e+08  2.812020e+08  5.983745e+07   \n",
       "7558  ...  1.418947e+08  1.199444e+08  2.845915e+08  6.023243e+07   \n",
       "7559  ...  1.423463e+08  1.200397e+08  2.854760e+08  6.017001e+07   \n",
       "7560  ...  1.421377e+08  1.197869e+08  2.855755e+08  6.041001e+07   \n",
       "\n",
       "               494           495           496           497           498  \\\n",
       "0     1.000000e+00  1.000000e+00  1.000000e+00  1.000000e+00  1.000000e+00   \n",
       "1     1.004586e+00  1.005473e+00  1.003231e+00  1.014281e+00  9.961420e-01   \n",
       "2     1.005768e+00  1.014376e+00  9.978656e-01  1.012860e+00  9.960553e-01   \n",
       "3     1.003882e+00  1.027609e+00  9.954357e-01  1.016906e+00  9.978333e-01   \n",
       "4     1.001096e+00  1.033197e+00  9.985599e-01  1.015887e+00  9.972356e-01   \n",
       "...            ...           ...           ...           ...           ...   \n",
       "7556  2.322136e+08  1.990887e+08  9.479800e+07  1.223854e+08  1.632857e+08   \n",
       "7557  2.310019e+08  2.005506e+08  9.581206e+07  1.232169e+08  1.642004e+08   \n",
       "7558  2.312591e+08  1.997269e+08  9.535665e+07  1.233077e+08  1.643130e+08   \n",
       "7559  2.330655e+08  1.996794e+08  9.506769e+07  1.233609e+08  1.654313e+08   \n",
       "7560  2.340002e+08  2.007236e+08  9.475408e+07  1.247861e+08  1.669053e+08   \n",
       "\n",
       "               499  \n",
       "0     1.000000e+00  \n",
       "1     9.958262e-01  \n",
       "2     1.001229e+00  \n",
       "3     1.000133e+00  \n",
       "4     1.006799e+00  \n",
       "...            ...  \n",
       "7556  1.717408e+08  \n",
       "7557  1.724279e+08  \n",
       "7558  1.731842e+08  \n",
       "7559  1.733959e+08  \n",
       "7560  1.740919e+08  \n",
       "\n",
       "[7561 rows x 500 columns]"
      ]
     },
     "execution_count": 229,
     "metadata": {},
     "output_type": "execute_result"
    }
   ],
   "source": [
    "# Running a Monte Carlo simulation to forecast 30 years cumulative returns\n",
    "import warnings\n",
    "\n",
    "warnings.filterwarnings('ignore')\n",
    "\n",
    "mc_simulation.calc_cumulative_return()"
   ]
  },
  {
   "cell_type": "code",
   "execution_count": 230,
   "metadata": {},
   "outputs": [
    {
     "data": {
      "image/png": "[encoded data removed]",
      "text/plain": [
       "<Figure size 640x480 with 1 Axes>"
      ]
     },
     "metadata": {},
     "output_type": "display_data"
    }
   ],
   "source": [
    "# Plot simulation outcomes\n",
    "line_plot = mc_simulation.plot_simulation()\n",
    "\n",
    "\n"
   ]
  },
  {
   "cell_type": "code",
   "execution_count": 231,
   "metadata": {},
   "outputs": [
    {
     "data": {
      "image/png": "[encoded data removed]",
      "text/plain": [
       "<Figure size 640x480 with 1 Axes>"
      ]
     },
     "metadata": {},
     "output_type": "display_data"
    }
   ],
   "source": [
    "# Plot probability distribution and confidence intervals\n",
    "dist_plot = mc_simulation.plot_distribution()"
   ]
  },
  {
   "cell_type": "markdown",
   "metadata": {},
   "source": [
    "### Retirement Analysis"
   ]
  },
  {
   "cell_type": "code",
   "execution_count": 211,
   "metadata": {},
   "outputs": [
    {
     "name": "stdout",
     "output_type": "stream",
     "text": [
      "count             500.000000\n",
      "mean            13146.246821\n",
      "std              6385.482426\n",
      "min              2880.690128\n",
      "25%              8617.265055\n",
      "50%             11575.434741\n",
      "75%             16478.285522\n",
      "max             45889.160967\n",
      "95% CI Lower     4581.026078\n",
      "95% CI Upper    27447.822970\n",
      "Name: 7560, dtype: float64\n"
     ]
    }
   ],
   "source": [
    "# Fetch summary statistics from the Monte Carlo simulation results\n",
    "simulated_returns_data = {\n",
    "    \"mean\": list(mc_simulation.simulated_return.mean(axis=1)),\n",
    "    \"median\": list(mc_simulation.simulated_return.median(axis=1)),\n",
    "    \"min\": list(mc_simulation.simulated_return.min(axis=1)),\n",
    "    \"max\": list(mc_simulation.simulated_return.max(axis=1))\n",
    "}\n",
    "\n",
    "sum_stat = mc_simulation.summarize_cumulative_return()\n",
    "\n",
    "# Print summary statistics\n",
    "print(sum_stat)"
   ]
  },
  {
   "cell_type": "markdown",
   "metadata": {},
   "source": [
    "### Calculate the expected portfolio return at the `95%` lower and upper confidence intervals based on a `$20,000` initial investment."
   ]
  },
  {
   "cell_type": "code",
   "execution_count": 213,
   "metadata": {},
   "outputs": [
    {
     "name": "stdout",
     "output_type": "stream",
     "text": [
      "There is a 95% chance that an initial investment of $20000 in the portfolio over the next 30 years will end within in the range of $45810260.78 and $274478229.7\n"
     ]
    }
   ],
   "source": [
    "# Set initial investment\n",
    "initial_investment = 20000\n",
    "\n",
    "tbl = mc_simulation.summarize_cumulative_return()\n",
    "\n",
    "# Use the lower and upper `95%` confidence intervals to calculate the range of the possible outcomes of our $20,000\n",
    "ci_lower = round(tbl[8]*10000,2)\n",
    "ci_upper = round(tbl[9]*10000,2)\n",
    "\n",
    "# Print results\n",
    "print(f\"There is a 95% chance that an initial investment of ${initial_investment} in the portfolio\"\n",
    "      f\" over the next 30 years will end within in the range of\"\n",
    "      f\" ${ci_lower} and ${ci_upper}\")"
   ]
  },
  {
   "cell_type": "markdown",
   "metadata": {},
   "source": [
    "### Calculate the expected portfolio return at the `95%` lower and upper confidence intervals based on a `50%` increase in the initial investment."
   ]
  },
  {
   "cell_type": "code",
   "execution_count": null,
   "metadata": {},
   "outputs": [],
   "source": [
    "# Set initial investment\n",
    "initial_investment = 20000 * 1.5\n",
    "\n",
    "# Use the lower and upper `95%` confidence intervals to calculate the range of the possible outcomes of our $30,000\n",
    "# YOUR CODE HERE!\n",
    "\n",
    "# Print results\n",
    "print(f\"There is a 95% chance that an initial investment of ${initial_investment} in the portfolio\"\n",
    "      f\" over the next 30 years will end within in the range of\"\n",
    "      f\" ${ci_lower} and ${ci_upper}\")"
   ]
  },
  {
   "cell_type": "markdown",
   "metadata": {},
   "source": [
    "## Optional Challenge - Early Retirement\n",
    "\n",
    "\n",
    "### Five Years Retirement Option"
   ]
  },
  {
   "cell_type": "code",
   "execution_count": null,
   "metadata": {},
   "outputs": [],
   "source": [
    "# Configuring a Monte Carlo simulation to forecast 5 years cumulative returns\n",
    "# YOUR CODE HERE!"
   ]
  },
  {
   "cell_type": "code",
   "execution_count": null,
   "metadata": {},
   "outputs": [],
   "source": [
    "# Running a Monte Carlo simulation to forecast 5 years cumulative returns\n",
    "# YOUR CODE HERE!"
   ]
  },
  {
   "cell_type": "code",
   "execution_count": null,
   "metadata": {},
   "outputs": [],
   "source": [
    "# Plot simulation outcomes\n",
    "# YOUR CODE HERE!"
   ]
  },
  {
   "cell_type": "code",
   "execution_count": null,
   "metadata": {},
   "outputs": [],
   "source": [
    "# Plot probability distribution and confidence intervals\n",
    "# YOUR CODE HERE!"
   ]
  },
  {
   "cell_type": "code",
   "execution_count": null,
   "metadata": {},
   "outputs": [],
   "source": [
    "# Fetch summary statistics from the Monte Carlo simulation results\n",
    "# YOUR CODE HERE!\n",
    "\n",
    "# Print summary statistics\n",
    "# YOUR CODE HERE!"
   ]
  },
  {
   "cell_type": "code",
   "execution_count": null,
   "metadata": {},
   "outputs": [],
   "source": [
    "# Set initial investment\n",
    "# YOUR CODE HERE!\n",
    "\n",
    "# Use the lower and upper `95%` confidence intervals to calculate the range of the possible outcomes of our $60,000\n",
    "# YOUR CODE HERE!\n",
    "\n",
    "# Print results\n",
    "print(f\"There is a 95% chance that an initial investment of ${initial_investment} in the portfolio\"\n",
    "      f\" over the next 5 years will end within in the range of\"\n",
    "      f\" ${ci_lower_five} and ${ci_upper_five}\")"
   ]
  },
  {
   "cell_type": "markdown",
   "metadata": {},
   "source": [
    "### Ten Years Retirement Option"
   ]
  },
  {
   "cell_type": "code",
   "execution_count": null,
   "metadata": {},
   "outputs": [],
   "source": [
    "# Configuring a Monte Carlo simulation to forecast 10 years cumulative returns\n",
    "# YOUR CODE HERE!"
   ]
  },
  {
   "cell_type": "code",
   "execution_count": null,
   "metadata": {},
   "outputs": [],
   "source": [
    "# Running a Monte Carlo simulation to forecast 10 years cumulative returns\n",
    "# YOUR CODE HERE!"
   ]
  },
  {
   "cell_type": "code",
   "execution_count": null,
   "metadata": {},
   "outputs": [],
   "source": [
    "# Plot simulation outcomes\n",
    "# YOUR CODE HERE!"
   ]
  },
  {
   "cell_type": "code",
   "execution_count": null,
   "metadata": {},
   "outputs": [],
   "source": [
    "# Plot probability distribution and confidence intervals\n",
    "# YOUR CODE HERE!"
   ]
  },
  {
   "cell_type": "code",
   "execution_count": null,
   "metadata": {},
   "outputs": [],
   "source": [
    "# Fetch summary statistics from the Monte Carlo simulation results\n",
    "# YOUR CODE HERE!\n",
    "\n",
    "# Print summary statistics\n",
    "# YOUR CODE HERE!"
   ]
  },
  {
   "cell_type": "code",
   "execution_count": null,
   "metadata": {},
   "outputs": [],
   "source": [
    "# Set initial investment\n",
    "# YOUR CODE HERE!\n",
    "\n",
    "# Use the lower and upper `95%` confidence intervals to calculate the range of the possible outcomes of our $60,000\n",
    "# YOUR CODE HERE!\n",
    "\n",
    "# Print results\n",
    "print(f\"There is a 95% chance that an initial investment of ${initial_investment} in the portfolio\"\n",
    "      f\" over the next 10 years will end within in the range of\"\n",
    "      f\" ${ci_lower_ten} and ${ci_upper_ten}\")"
   ]
  },
  {
   "cell_type": "code",
   "execution_count": null,
   "metadata": {},
   "outputs": [],
   "source": []
  }
 ],
 "metadata": {
  "kernelspec": {
   "display_name": "Python 3 (ipykernel)",
   "language": "python",
   "name": "python3"
  },
  "language_info": {
   "codemirror_mode": {
    "name": "ipython",
    "version": 3
   },
   "file_extension": ".py",
   "mimetype": "text/x-python",
   "name": "python",
   "nbconvert_exporter": "python",
   "pygments_lexer": "ipython3",
   "version": "3.11.4"
  },
  "nteract": {
   "version": "0.28.0"
  }
 },
 "nbformat": 4,
 "nbformat_minor": 4
}
