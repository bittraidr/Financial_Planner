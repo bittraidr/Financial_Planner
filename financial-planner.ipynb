{
 "cells": [
  {
   "cell_type": "markdown",
   "metadata": {},
   "source": [
    "# Unit 5 - Financial Planning"
   ]
  },
  {
   "cell_type": "code",
   "execution_count": 1,
   "metadata": {},
   "outputs": [],
   "source": [
    "# Initial imports\n",
    "import os\n",
    "import requests\n",
    "import pandas as pd\n",
    "from dotenv import load_dotenv\n",
    "import alpaca_trade_api as tradeapi\n",
    "from MCForecastTools import MCSimulation\n",
    "\n",
    "%matplotlib inline"
   ]
  },
  {
   "cell_type": "code",
   "execution_count": 2,
   "metadata": {},
   "outputs": [
    {
     "data": {
      "text/plain": [
       "True"
      ]
     },
     "execution_count": 2,
     "metadata": {},
     "output_type": "execute_result"
    }
   ],
   "source": [
    "# Load .env enviroment variables\n",
    "load_dotenv('api.env')"
   ]
  },
  {
   "cell_type": "markdown",
   "metadata": {},
   "source": [
    "## Part 1 - Personal Finance Planner"
   ]
  },
  {
   "cell_type": "markdown",
   "metadata": {},
   "source": [
    "### Collect Crypto Prices Using the `requests` Library"
   ]
  },
  {
   "cell_type": "code",
   "execution_count": 3,
   "metadata": {},
   "outputs": [],
   "source": [
    "# Set current amount of crypto assets\n",
    "btc_hodl = 1.2\n",
    "eth_hodl = 5.3"
   ]
  },
  {
   "cell_type": "code",
   "execution_count": 4,
   "metadata": {},
   "outputs": [],
   "source": [
    "# Crypto API URLs\n",
    "btc_url = \"https://api.alternative.me/v2/ticker/Bitcoin/?convert=USD\"\n",
    "eth_url = \"https://api.alternative.me/v2/ticker/Ethereum/?convert=USD\""
   ]
  },
  {
   "cell_type": "code",
   "execution_count": 5,
   "metadata": {},
   "outputs": [
    {
     "name": "stdout",
     "output_type": "stream",
     "text": [
      "The current value of your 1.2 BTC is $36163.20\n",
      "The current value of your 5.3 ETH is $10130.79\n",
      "46293.990999999995\n"
     ]
    }
   ],
   "source": [
    "# Fetch current BTC price\n",
    "my_btc = requests.get(btc_url).json()\n",
    "my_btc_price = my_btc['data']['1']['quotes']['USD']['price']\n",
    "# print(my_btc_price)\n",
    "\n",
    "# Fetch current ETH price\n",
    "my_eth = requests.get(eth_url).json()\n",
    "my_eth_price = my_eth['data']['1027']['quotes']['USD']['price']\n",
    "# print(my_eth_price)\n",
    "\n",
    "# Compute current value of my crpto\n",
    "my_btc_value = my_btc_price * btc_hodl\n",
    "my_eth_value = my_eth_price * eth_hodl\n",
    "my_crypto_value = my_btc_value + my_eth_value\n",
    "\n",
    "# Print current crypto wallet balance\n",
    "print(f\"The current value of your {btc_hodl} BTC is ${my_btc_value:0.2f}\")\n",
    "print(f\"The current value of your {eth_hodl} ETH is ${my_eth_value:0.2f}\")\n",
    "print(my_crypto_value)"
   ]
  },
  {
   "cell_type": "markdown",
   "metadata": {},
   "source": [
    "### Collect Investments Data Using Alpaca: `SPY` (stocks) and `AGG` (bonds)"
   ]
  },
  {
   "cell_type": "code",
   "execution_count": 6,
   "metadata": {},
   "outputs": [],
   "source": [
    "# Set current amount of shares\n",
    "my_agg = 200\n",
    "my_spy = 50"
   ]
  },
  {
   "cell_type": "code",
   "execution_count": 7,
   "metadata": {},
   "outputs": [],
   "source": [
    "# Set Alpaca API key and secret\n",
    "alpaca_api_key = os.getenv(\"ALPACA_API_KEY\")\n",
    "alpaca_secret_key = os.getenv(\"ALPACA_SECRET_KEY\")\n",
    "\n",
    "# Create the Alpaca API object\n",
    "alpaca = tradeapi.REST(\n",
    "    alpaca_api_key,\n",
    "    alpaca_secret_key,\n",
    "    api_version=\"v2\")\n",
    "\n"
   ]
  },
  {
   "cell_type": "code",
   "execution_count": 8,
   "metadata": {},
   "outputs": [
    {
     "data": {
      "text/html": [
       "<div>\n",
       "<style scoped>\n",
       "    .dataframe tbody tr th:only-of-type {\n",
       "        vertical-align: middle;\n",
       "    }\n",
       "\n",
       "    .dataframe tbody tr th {\n",
       "        vertical-align: top;\n",
       "    }\n",
       "\n",
       "    .dataframe thead th {\n",
       "        text-align: right;\n",
       "    }\n",
       "</style>\n",
       "<table border=\"1\" class=\"dataframe\">\n",
       "  <thead>\n",
       "    <tr style=\"text-align: right;\">\n",
       "      <th></th>\n",
       "      <th>open</th>\n",
       "      <th>high</th>\n",
       "      <th>low</th>\n",
       "      <th>close</th>\n",
       "      <th>volume</th>\n",
       "      <th>trade_count</th>\n",
       "      <th>vwap</th>\n",
       "      <th>symbol</th>\n",
       "      <th>open</th>\n",
       "      <th>high</th>\n",
       "      <th>low</th>\n",
       "      <th>close</th>\n",
       "      <th>volume</th>\n",
       "      <th>trade_count</th>\n",
       "      <th>vwap</th>\n",
       "      <th>symbol</th>\n",
       "    </tr>\n",
       "    <tr>\n",
       "      <th>timestamp</th>\n",
       "      <th></th>\n",
       "      <th></th>\n",
       "      <th></th>\n",
       "      <th></th>\n",
       "      <th></th>\n",
       "      <th></th>\n",
       "      <th></th>\n",
       "      <th></th>\n",
       "      <th></th>\n",
       "      <th></th>\n",
       "      <th></th>\n",
       "      <th></th>\n",
       "      <th></th>\n",
       "      <th></th>\n",
       "      <th></th>\n",
       "      <th></th>\n",
       "    </tr>\n",
       "  </thead>\n",
       "  <tbody>\n",
       "    <tr>\n",
       "      <th>2020-08-07 04:00:00+00:00</th>\n",
       "      <td>119.66</td>\n",
       "      <td>119.73</td>\n",
       "      <td>119.395</td>\n",
       "      <td>119.43</td>\n",
       "      <td>5559066</td>\n",
       "      <td>15246</td>\n",
       "      <td>119.475306</td>\n",
       "      <td>AGG</td>\n",
       "      <td>333.28</td>\n",
       "      <td>334.88</td>\n",
       "      <td>332.3</td>\n",
       "      <td>334.57</td>\n",
       "      <td>57282821</td>\n",
       "      <td>350100</td>\n",
       "      <td>333.800372</td>\n",
       "      <td>SPY</td>\n",
       "    </tr>\n",
       "  </tbody>\n",
       "</table>\n",
       "</div>"
      ],
      "text/plain": [
       "                             open    high      low   close   volume  \\\n",
       "timestamp                                                             \n",
       "2020-08-07 04:00:00+00:00  119.66  119.73  119.395  119.43  5559066   \n",
       "\n",
       "                           trade_count        vwap symbol    open    high  \\\n",
       "timestamp                                                                   \n",
       "2020-08-07 04:00:00+00:00        15246  119.475306    AGG  333.28  334.88   \n",
       "\n",
       "                             low   close    volume  trade_count        vwap  \\\n",
       "timestamp                                                                     \n",
       "2020-08-07 04:00:00+00:00  332.3  334.57  57282821       350100  333.800372   \n",
       "\n",
       "                          symbol  \n",
       "timestamp                         \n",
       "2020-08-07 04:00:00+00:00    SPY  "
      ]
     },
     "execution_count": 8,
     "metadata": {},
     "output_type": "execute_result"
    }
   ],
   "source": [
    "# Format current date as ISO format\n",
    "start = pd.Timestamp(\"2020-08-07\", tz=\"America/New_York\").isoformat()\n",
    "end = pd.Timestamp(\"2020-08-07\", tz=\"America/New_York\").isoformat()\n",
    "\n",
    "# Set the tickers\n",
    "tickers = [\"AGG\", \"SPY\"]\n",
    "\n",
    "# Set timeframe to \"1Day\" for Alpaca API\n",
    "timeframe = \"1Day\"\n",
    "\n",
    "# Get current closing prices for SPY and AGG\n",
    "df_closing = alpaca.get_bars(\n",
    "    tickers,\n",
    "    timeframe,\n",
    "    start = start,\n",
    "    end = end\n",
    ").df\n",
    "\n",
    "# Display sample data\n",
    "# df_closing.head(10)\n",
    "\n",
    "# Display first 10 rows of AGG and SPY side by side\n",
    "df_agg = df_closing[df_closing['symbol'] == \"AGG\"].head()\n",
    "df_spy = df_closing[df_closing['symbol'] == \"SPY\"].head()\n",
    "\n",
    "# Concatenate the DataFrames side by side\n",
    "df_combined = pd.concat([df_agg, df_spy], axis=1)\n",
    "\n",
    "# Display the combined DataFrame\n",
    "df_combined.head()\n"
   ]
  },
  {
   "cell_type": "code",
   "execution_count": 9,
   "metadata": {},
   "outputs": [
    {
     "name": "stdout",
     "output_type": "stream",
     "text": [
      "Current AGG closing price: $timestamp\n",
      "2020-08-07 04:00:00+00:00    119.43\n",
      "Name: close, dtype: float64\n",
      "Current SPY closing price: $timestamp\n",
      "2020-08-07 04:00:00+00:00    334.57\n",
      "Name: close, dtype: float64\n"
     ]
    }
   ],
   "source": [
    "# Pick AGG and SPY close prices\n",
    "\n",
    "agg_close_price = df_closing[df_closing['symbol'] == \"AGG\"]['close'].head(10)\n",
    "spy_close_price = df_closing[df_closing['symbol'] == \"SPY\"]['close'].head(10)\n",
    "# Print AGG and SPY close prices\n",
    "print(f\"Current AGG closing price: ${agg_close_price}\")\n",
    "print(f\"Current SPY closing price: ${spy_close_price}\")"
   ]
  },
  {
   "cell_type": "code",
   "execution_count": 27,
   "metadata": {},
   "outputs": [
    {
     "name": "stdout",
     "output_type": "stream",
     "text": [
      "total: 40614.5\n",
      "The current value of your 50 SPY shares is $16728.50\n",
      "The current value of your 200 AGG shares is $23886.00\n"
     ]
    }
   ],
   "source": [
    "# Compute the current value of shares\n",
    "agg_shares_value = agg_close_price * my_agg\n",
    "spy_shares_value = spy_close_price * my_spy\n",
    "\n",
    "# print(spy_shares_value)\n",
    "# print(agg_shares_value)\n",
    "\n",
    "# Access the first value from each Series\n",
    "agg_shares_value = agg_shares_value.iloc[0]\n",
    "spy_shares_value = spy_shares_value.iloc[0]\n",
    "\n",
    "total_shares_value = agg_shares_value + spy_shares_value\n",
    "print(f\"total: {total_shares_value}\")\n",
    "# Print current value of shares\n",
    "print(f\"The current value of your {my_spy} SPY shares is ${spy_shares_value:0.2f}\")\n",
    "print(f\"The current value of your {my_agg} AGG shares is ${agg_shares_value:0.2f}\")"
   ]
  },
  {
   "cell_type": "markdown",
   "metadata": {},
   "source": [
    "### Savings Health Analysis"
   ]
  },
  {
   "cell_type": "code",
   "execution_count": 13,
   "metadata": {},
   "outputs": [
    {
     "data": {
      "text/html": [
       "<div>\n",
       "<style scoped>\n",
       "    .dataframe tbody tr th:only-of-type {\n",
       "        vertical-align: middle;\n",
       "    }\n",
       "\n",
       "    .dataframe tbody tr th {\n",
       "        vertical-align: top;\n",
       "    }\n",
       "\n",
       "    .dataframe thead th {\n",
       "        text-align: right;\n",
       "    }\n",
       "</style>\n",
       "<table border=\"1\" class=\"dataframe\">\n",
       "  <thead>\n",
       "    <tr style=\"text-align: right;\">\n",
       "      <th></th>\n",
       "      <th>Value</th>\n",
       "    </tr>\n",
       "  </thead>\n",
       "  <tbody>\n",
       "    <tr>\n",
       "      <th>my_crypto_value</th>\n",
       "      <td>46293.991</td>\n",
       "    </tr>\n",
       "    <tr>\n",
       "      <th>total_shares_value</th>\n",
       "      <td>open                                          ...</td>\n",
       "    </tr>\n",
       "  </tbody>\n",
       "</table>\n",
       "</div>"
      ],
      "text/plain": [
       "                                                                Value\n",
       "my_crypto_value                                             46293.991\n",
       "total_shares_value  open                                          ..."
      ]
     },
     "metadata": {},
     "output_type": "display_data"
    }
   ],
   "source": [
    "# Set monthly household income\n",
    "monthly_income = 12000\n",
    "\n",
    "# Consolidate financial assets data\n",
    "savings_data = [my_crypto_value, total_shares_value] \n",
    "\n",
    "# Create savings DataFrame\n",
    "savings_df = pd.DataFrame(savings_data, index=['my_crypto_value', 'total_shares_value'], columns=['Value'])\n",
    "\n",
    "\n",
    "# Display savings DataFrame\n",
    "display(savings_df)"
   ]
  },
  {
   "cell_type": "code",
   "execution_count": 68,
   "metadata": {},
   "outputs": [
    {
     "data": {
      "text/plain": [
       "<Axes: ylabel='Value'>"
      ]
     },
     "execution_count": 68,
     "metadata": {},
     "output_type": "execute_result"
    },
    {
     "data": {
      "image/png": "[encoded data removed]",
      "text/plain": [
       "<Figure size 800x800 with 1 Axes>"
      ]
     },
     "metadata": {},
     "output_type": "display_data"
    }
   ],
   "source": [
    "# Plot savings pie chart\n",
    "savings_df.plot(kind='pie', y='Value', legend=False, figsize=(8, 8))"
   ]
  },
  {
   "cell_type": "code",
   "execution_count": 197,
   "metadata": {},
   "outputs": [
    {
     "name": "stdout",
     "output_type": "stream",
     "text": [
      "36000\n",
      "87162.359\n",
      "Congrats! You have enough $87162.359 in your fund!\n"
     ]
    }
   ],
   "source": [
    "# Set ideal emergency fund\n",
    "emergency_fund = monthly_income * 3\n",
    "print(emergency_fund)\n",
    "# Calculate total amount of savings\n",
    "total_savings = my_crypto_value + total_shares_value\n",
    "print(total_savings)\n",
    "\n",
    "# Validate saving health\n",
    "if total_savings > emergency_fund:\n",
    "    print(f\"Congrats! You have enough ${total_savings} in your fund!\")\n",
    "elif total_savings == emergency_fund:\n",
    "    print(f\"Congrats! You have reached your goal!\")\n",
    "else:\n",
    "    print(f\"You are ${total_savings - emergency_fund} from your goal!\")"
   ]
  },
  {
   "cell_type": "markdown",
   "metadata": {},
   "source": [
    "## Part 2 - Retirement Planning\n",
    "\n",
    "### Monte Carlo Simulation"
   ]
  },
  {
   "cell_type": "code",
   "execution_count": 14,
   "metadata": {},
   "outputs": [],
   "source": [
    "# Set start and end dates of five years back from today.\n",
    "# Sample results may vary from the solution based on the time frame chosen\n",
    "start_date = pd.Timestamp('2018-05-01', tz='America/New_York').isoformat()\n",
    "end_date = pd.Timestamp('2023-05-01', tz='America/New_York').isoformat()"
   ]
  },
  {
   "cell_type": "code",
   "execution_count": 36,
   "metadata": {},
   "outputs": [
    {
     "name": "stdout",
     "output_type": "stream",
     "text": [
      "                              SPY                                        \\\n",
      "                             open      high      low   close     volume   \n",
      "timestamp                                                                 \n",
      "2018-05-01 04:00:00+00:00  263.87  265.1000  262.110  264.96   76110600   \n",
      "2018-05-02 04:00:00+00:00  264.76  265.6800  262.760  263.17   86373743   \n",
      "2018-05-03 04:00:00+00:00  262.26  263.3600  259.050  262.59  136921861   \n",
      "2018-05-04 04:00:00+00:00  261.52  266.7892  261.150  265.92   91230645   \n",
      "2018-05-07 04:00:00+00:00  266.89  268.0200  266.110  266.92   56495099   \n",
      "...                           ...       ...      ...     ...        ...   \n",
      "2023-04-25 04:00:00+00:00  410.58  411.1600  406.020  406.08   97784465   \n",
      "2023-04-26 04:00:00+00:00  406.72  407.8400  403.780  404.36   80954650   \n",
      "2023-04-27 04:00:00+00:00  407.00  412.6900  406.740  412.41   92968169   \n",
      "2023-04-28 04:00:00+00:00  411.49  415.9300  411.430  415.93   84857179   \n",
      "2023-05-01 04:00:00+00:00  415.47  417.6200  415.265  415.51   62135864   \n",
      "\n",
      "                                                      AGG                    \\\n",
      "                          trade_count        vwap    open    high       low   \n",
      "timestamp                                                                     \n",
      "2018-05-01 04:00:00+00:00      296318  263.924372  105.73  105.79  105.6000   \n",
      "2018-05-02 04:00:00+00:00      300565  264.118423  105.70  105.78  105.6200   \n",
      "2018-05-03 04:00:00+00:00      519981  261.686187  105.82  105.95  105.7800   \n",
      "2018-05-04 04:00:00+00:00      326945  264.854905  105.92  105.93  105.7100   \n",
      "2018-05-07 04:00:00+00:00      242699  267.100589  105.88  105.88  105.7700   \n",
      "...                               ...         ...     ...     ...       ...   \n",
      "2023-04-25 04:00:00+00:00      612111  408.273271   99.97  100.25   99.9636   \n",
      "2023-04-26 04:00:00+00:00      572128  405.591919  100.16  100.22   99.7200   \n",
      "2023-04-27 04:00:00+00:00      614868  410.101891   99.61   99.63   99.3900   \n",
      "2023-04-28 04:00:00+00:00      592226  414.377425   99.91   99.99   99.7200   \n",
      "2023-05-01 04:00:00+00:00      502911  416.206296   99.35   99.41   98.5950   \n",
      "\n",
      "                                                                     \n",
      "                            close    volume trade_count        vwap  \n",
      "timestamp                                                            \n",
      "2018-05-01 04:00:00+00:00  105.67   3027047       11964  105.661470  \n",
      "2018-05-02 04:00:00+00:00  105.67   2560754       11838  105.678072  \n",
      "2018-05-03 04:00:00+00:00  105.79   4499248       14801  105.875731  \n",
      "2018-05-04 04:00:00+00:00  105.86   2317096        9990  105.825193  \n",
      "2018-05-07 04:00:00+00:00  105.81   1533669        7643  105.816832  \n",
      "...                           ...       ...         ...         ...  \n",
      "2023-04-25 04:00:00+00:00  100.18   5065416       26744  100.112017  \n",
      "2023-04-26 04:00:00+00:00   99.81   3723566       18350   99.907609  \n",
      "2023-04-27 04:00:00+00:00   99.45   4018321       21343   99.478744  \n",
      "2023-04-28 04:00:00+00:00   99.96   5314632       24244   99.898951  \n",
      "2023-05-01 04:00:00+00:00   98.69  10631667       24231   99.028460  \n",
      "\n",
      "[1259 rows x 14 columns]\n"
     ]
    }
   ],
   "source": [
    "# Get 5 years' worth of historical data for SPY and AGG\n",
    "# Set the tickers\n",
    "tickers = [\"AGG\", \"SPY\"]\n",
    "\n",
    "# Set timeframe to \"1Day\" for Alpaca API\n",
    "timeframe = \"1Day\"\n",
    "\n",
    "# Get current closing prices for SPY and AGG\n",
    "df_closing_five = alpaca.get_bars(\n",
    "    tickers,\n",
    "    timeframe,\n",
    "    start = start_date,\n",
    "    end = end_date\n",
    ").df\n",
    "\n",
    "# print(df_closing_five)\n",
    "\n",
    "# Reorganize the DataFrame\n",
    "\n",
    "# Separate ticker data\n",
    "df_agg_five = df_closing_five[df_closing_five['symbol'] == \"AGG\"].drop('symbol', axis=1)\n",
    "df_spy_five = df_closing_five[df_closing_five['symbol'] == \"SPY\"].drop('symbol', axis=1)\n",
    "\n",
    "\n",
    "# Concatenate the DataFrames side by side\n",
    "df_combined_five = pd.concat([df_spy_five, df_agg_five], axis=1, keys=['SPY', 'AGG'])\n",
    "\n",
    "# Display the combined DataFrame\n",
    "print(df_combined_five)"
   ]
  },
  {
   "cell_type": "code",
   "execution_count": 46,
   "metadata": {},
   "outputs": [],
   "source": [
    "# Configuring a Monte Carlo simulation to forecast 30 years cumulative returns\n",
    "num_sims = 500\n",
    "\n",
    "mc_simulation = MCSimulation(\n",
    "    portfolio_data = df_combined_five,\n",
    "    weights = [0.60, 0.40],\n",
    "    num_simulation = num_sims,\n",
    "    num_trading_days = 252 * 30\n",
    ")\n"
   ]
  },
  {
   "cell_type": "code",
   "execution_count": 47,
   "metadata": {},
   "outputs": [
    {
     "name": "stdout",
     "output_type": "stream",
     "text": [
      "<MCForecastTools.MCSimulation object at 0x00000283003C5210>\n"
     ]
    }
   ],
   "source": [
    "# Printing the simulation input data\n",
    "print(mc_simulation)"
   ]
  },
  {
   "cell_type": "code",
   "execution_count": 48,
   "metadata": {
    "jupyter": {
     "source_hidden": true
    },
    "tags": []
   },
   "outputs": [
    {
     "name": "stdout",
     "output_type": "stream",
     "text": [
      "Running Monte Carlo simulation number 0.\n",
      "Running Monte Carlo simulation number 10.\n",
      "Running Monte Carlo simulation number 20.\n",
      "Running Monte Carlo simulation number 30.\n",
      "Running Monte Carlo simulation number 40.\n",
      "Running Monte Carlo simulation number 50.\n",
      "Running Monte Carlo simulation number 60.\n",
      "Running Monte Carlo simulation number 70.\n",
      "Running Monte Carlo simulation number 80.\n",
      "Running Monte Carlo simulation number 90.\n",
      "Running Monte Carlo simulation number 100.\n",
      "Running Monte Carlo simulation number 110.\n",
      "Running Monte Carlo simulation number 120.\n",
      "Running Monte Carlo simulation number 130.\n",
      "Running Monte Carlo simulation number 140.\n",
      "Running Monte Carlo simulation number 150.\n",
      "Running Monte Carlo simulation number 160.\n",
      "Running Monte Carlo simulation number 170.\n",
      "Running Monte Carlo simulation number 180.\n",
      "Running Monte Carlo simulation number 190.\n",
      "Running Monte Carlo simulation number 200.\n",
      "Running Monte Carlo simulation number 210.\n",
      "Running Monte Carlo simulation number 220.\n",
      "Running Monte Carlo simulation number 230.\n",
      "Running Monte Carlo simulation number 240.\n",
      "Running Monte Carlo simulation number 250.\n",
      "Running Monte Carlo simulation number 260.\n",
      "Running Monte Carlo simulation number 270.\n",
      "Running Monte Carlo simulation number 280.\n",
      "Running Monte Carlo simulation number 290.\n",
      "Running Monte Carlo simulation number 300.\n",
      "Running Monte Carlo simulation number 310.\n",
      "Running Monte Carlo simulation number 320.\n",
      "Running Monte Carlo simulation number 330.\n",
      "Running Monte Carlo simulation number 340.\n",
      "Running Monte Carlo simulation number 350.\n",
      "Running Monte Carlo simulation number 360.\n",
      "Running Monte Carlo simulation number 370.\n",
      "Running Monte Carlo simulation number 380.\n",
      "Running Monte Carlo simulation number 390.\n",
      "Running Monte Carlo simulation number 400.\n",
      "Running Monte Carlo simulation number 410.\n",
      "Running Monte Carlo simulation number 420.\n",
      "Running Monte Carlo simulation number 430.\n",
      "Running Monte Carlo simulation number 440.\n",
      "Running Monte Carlo simulation number 450.\n",
      "Running Monte Carlo simulation number 460.\n",
      "Running Monte Carlo simulation number 470.\n",
      "Running Monte Carlo simulation number 480.\n",
      "Running Monte Carlo simulation number 490.\n"
     ]
    },
    {
     "data": {
      "text/html": [
       "<div>\n",
       "<style scoped>\n",
       "    .dataframe tbody tr th:only-of-type {\n",
       "        vertical-align: middle;\n",
       "    }\n",
       "\n",
       "    .dataframe tbody tr th {\n",
       "        vertical-align: top;\n",
       "    }\n",
       "\n",
       "    .dataframe thead th {\n",
       "        text-align: right;\n",
       "    }\n",
       "</style>\n",
       "<table border=\"1\" class=\"dataframe\">\n",
       "  <thead>\n",
       "    <tr style=\"text-align: right;\">\n",
       "      <th></th>\n",
       "      <th>0</th>\n",
       "      <th>1</th>\n",
       "      <th>2</th>\n",
       "      <th>3</th>\n",
       "      <th>4</th>\n",
       "      <th>5</th>\n",
       "      <th>6</th>\n",
       "      <th>7</th>\n",
       "      <th>8</th>\n",
       "      <th>9</th>\n",
       "      <th>...</th>\n",
       "      <th>490</th>\n",
       "      <th>491</th>\n",
       "      <th>492</th>\n",
       "      <th>493</th>\n",
       "      <th>494</th>\n",
       "      <th>495</th>\n",
       "      <th>496</th>\n",
       "      <th>497</th>\n",
       "      <th>498</th>\n",
       "      <th>499</th>\n",
       "    </tr>\n",
       "  </thead>\n",
       "  <tbody>\n",
       "    <tr>\n",
       "      <th>0</th>\n",
       "      <td>1.000000</td>\n",
       "      <td>1.000000</td>\n",
       "      <td>1.000000</td>\n",
       "      <td>1.000000</td>\n",
       "      <td>1.000000</td>\n",
       "      <td>1.000000</td>\n",
       "      <td>1.000000</td>\n",
       "      <td>1.000000</td>\n",
       "      <td>1.000000</td>\n",
       "      <td>1.000000</td>\n",
       "      <td>...</td>\n",
       "      <td>1.000000</td>\n",
       "      <td>1.000000</td>\n",
       "      <td>1.000000</td>\n",
       "      <td>1.000000</td>\n",
       "      <td>1.000000</td>\n",
       "      <td>1.000000</td>\n",
       "      <td>1.000000</td>\n",
       "      <td>1.000000</td>\n",
       "      <td>1.000000</td>\n",
       "      <td>1.000000</td>\n",
       "    </tr>\n",
       "    <tr>\n",
       "      <th>1</th>\n",
       "      <td>1.003476</td>\n",
       "      <td>1.002794</td>\n",
       "      <td>0.989949</td>\n",
       "      <td>1.015536</td>\n",
       "      <td>1.002490</td>\n",
       "      <td>0.999460</td>\n",
       "      <td>1.002038</td>\n",
       "      <td>1.013472</td>\n",
       "      <td>0.984643</td>\n",
       "      <td>0.999332</td>\n",
       "      <td>...</td>\n",
       "      <td>0.994520</td>\n",
       "      <td>1.018168</td>\n",
       "      <td>0.990303</td>\n",
       "      <td>0.984783</td>\n",
       "      <td>1.005211</td>\n",
       "      <td>0.994892</td>\n",
       "      <td>1.005350</td>\n",
       "      <td>0.996715</td>\n",
       "      <td>1.005628</td>\n",
       "      <td>1.010195</td>\n",
       "    </tr>\n",
       "    <tr>\n",
       "      <th>2</th>\n",
       "      <td>1.008729</td>\n",
       "      <td>1.001021</td>\n",
       "      <td>0.982996</td>\n",
       "      <td>1.031337</td>\n",
       "      <td>1.008566</td>\n",
       "      <td>0.998496</td>\n",
       "      <td>1.005155</td>\n",
       "      <td>1.015866</td>\n",
       "      <td>0.988501</td>\n",
       "      <td>0.975690</td>\n",
       "      <td>...</td>\n",
       "      <td>1.001740</td>\n",
       "      <td>1.010650</td>\n",
       "      <td>0.997201</td>\n",
       "      <td>0.982989</td>\n",
       "      <td>1.001870</td>\n",
       "      <td>0.998248</td>\n",
       "      <td>1.001303</td>\n",
       "      <td>1.007426</td>\n",
       "      <td>1.007092</td>\n",
       "      <td>1.010124</td>\n",
       "    </tr>\n",
       "    <tr>\n",
       "      <th>3</th>\n",
       "      <td>0.999649</td>\n",
       "      <td>1.002328</td>\n",
       "      <td>0.982289</td>\n",
       "      <td>1.049418</td>\n",
       "      <td>1.023125</td>\n",
       "      <td>0.986071</td>\n",
       "      <td>1.001272</td>\n",
       "      <td>1.012405</td>\n",
       "      <td>0.989202</td>\n",
       "      <td>0.985141</td>\n",
       "      <td>...</td>\n",
       "      <td>0.992353</td>\n",
       "      <td>1.004324</td>\n",
       "      <td>0.999637</td>\n",
       "      <td>0.984865</td>\n",
       "      <td>0.993160</td>\n",
       "      <td>0.995830</td>\n",
       "      <td>1.009536</td>\n",
       "      <td>1.012117</td>\n",
       "      <td>0.996797</td>\n",
       "      <td>1.017444</td>\n",
       "    </tr>\n",
       "    <tr>\n",
       "      <th>4</th>\n",
       "      <td>0.996046</td>\n",
       "      <td>1.010203</td>\n",
       "      <td>0.987212</td>\n",
       "      <td>1.041682</td>\n",
       "      <td>1.025321</td>\n",
       "      <td>0.972516</td>\n",
       "      <td>0.997067</td>\n",
       "      <td>1.021304</td>\n",
       "      <td>0.989180</td>\n",
       "      <td>0.987222</td>\n",
       "      <td>...</td>\n",
       "      <td>0.995012</td>\n",
       "      <td>0.997986</td>\n",
       "      <td>1.003889</td>\n",
       "      <td>0.989496</td>\n",
       "      <td>1.014860</td>\n",
       "      <td>0.983442</td>\n",
       "      <td>1.003959</td>\n",
       "      <td>1.009419</td>\n",
       "      <td>0.997659</td>\n",
       "      <td>1.041425</td>\n",
       "    </tr>\n",
       "    <tr>\n",
       "      <th>...</th>\n",
       "      <td>...</td>\n",
       "      <td>...</td>\n",
       "      <td>...</td>\n",
       "      <td>...</td>\n",
       "      <td>...</td>\n",
       "      <td>...</td>\n",
       "      <td>...</td>\n",
       "      <td>...</td>\n",
       "      <td>...</td>\n",
       "      <td>...</td>\n",
       "      <td>...</td>\n",
       "      <td>...</td>\n",
       "      <td>...</td>\n",
       "      <td>...</td>\n",
       "      <td>...</td>\n",
       "      <td>...</td>\n",
       "      <td>...</td>\n",
       "      <td>...</td>\n",
       "      <td>...</td>\n",
       "      <td>...</td>\n",
       "      <td>...</td>\n",
       "    </tr>\n",
       "    <tr>\n",
       "      <th>7556</th>\n",
       "      <td>4.109928</td>\n",
       "      <td>6.880432</td>\n",
       "      <td>4.863942</td>\n",
       "      <td>6.745330</td>\n",
       "      <td>9.107724</td>\n",
       "      <td>10.764264</td>\n",
       "      <td>6.677781</td>\n",
       "      <td>6.465796</td>\n",
       "      <td>3.063371</td>\n",
       "      <td>4.545642</td>\n",
       "      <td>...</td>\n",
       "      <td>11.298542</td>\n",
       "      <td>10.539544</td>\n",
       "      <td>16.015683</td>\n",
       "      <td>13.959319</td>\n",
       "      <td>7.306357</td>\n",
       "      <td>2.944775</td>\n",
       "      <td>2.994940</td>\n",
       "      <td>14.361417</td>\n",
       "      <td>9.895279</td>\n",
       "      <td>6.651459</td>\n",
       "    </tr>\n",
       "    <tr>\n",
       "      <th>7557</th>\n",
       "      <td>4.111849</td>\n",
       "      <td>6.887051</td>\n",
       "      <td>4.831063</td>\n",
       "      <td>6.742052</td>\n",
       "      <td>9.173897</td>\n",
       "      <td>10.663746</td>\n",
       "      <td>6.744083</td>\n",
       "      <td>6.522230</td>\n",
       "      <td>3.044182</td>\n",
       "      <td>4.543874</td>\n",
       "      <td>...</td>\n",
       "      <td>11.339073</td>\n",
       "      <td>10.511545</td>\n",
       "      <td>15.985364</td>\n",
       "      <td>14.174282</td>\n",
       "      <td>7.313516</td>\n",
       "      <td>2.935340</td>\n",
       "      <td>2.981123</td>\n",
       "      <td>14.452473</td>\n",
       "      <td>10.003762</td>\n",
       "      <td>6.736877</td>\n",
       "    </tr>\n",
       "    <tr>\n",
       "      <th>7558</th>\n",
       "      <td>4.056136</td>\n",
       "      <td>6.873850</td>\n",
       "      <td>4.773340</td>\n",
       "      <td>6.690272</td>\n",
       "      <td>9.122904</td>\n",
       "      <td>10.851024</td>\n",
       "      <td>6.696162</td>\n",
       "      <td>6.512233</td>\n",
       "      <td>3.056515</td>\n",
       "      <td>4.556385</td>\n",
       "      <td>...</td>\n",
       "      <td>11.422172</td>\n",
       "      <td>10.546932</td>\n",
       "      <td>16.005916</td>\n",
       "      <td>14.083811</td>\n",
       "      <td>7.281443</td>\n",
       "      <td>2.923786</td>\n",
       "      <td>2.953288</td>\n",
       "      <td>14.382468</td>\n",
       "      <td>9.949816</td>\n",
       "      <td>6.770365</td>\n",
       "    </tr>\n",
       "    <tr>\n",
       "      <th>7559</th>\n",
       "      <td>4.056970</td>\n",
       "      <td>6.926666</td>\n",
       "      <td>4.793603</td>\n",
       "      <td>6.739362</td>\n",
       "      <td>9.226299</td>\n",
       "      <td>10.845864</td>\n",
       "      <td>6.744604</td>\n",
       "      <td>6.556548</td>\n",
       "      <td>3.120641</td>\n",
       "      <td>4.548647</td>\n",
       "      <td>...</td>\n",
       "      <td>11.292404</td>\n",
       "      <td>10.623164</td>\n",
       "      <td>15.857626</td>\n",
       "      <td>14.144808</td>\n",
       "      <td>7.273227</td>\n",
       "      <td>2.928940</td>\n",
       "      <td>2.960353</td>\n",
       "      <td>14.352674</td>\n",
       "      <td>9.959642</td>\n",
       "      <td>6.741293</td>\n",
       "    </tr>\n",
       "    <tr>\n",
       "      <th>7560</th>\n",
       "      <td>4.090638</td>\n",
       "      <td>6.958670</td>\n",
       "      <td>4.707043</td>\n",
       "      <td>6.654962</td>\n",
       "      <td>9.240928</td>\n",
       "      <td>10.833937</td>\n",
       "      <td>6.815458</td>\n",
       "      <td>6.502178</td>\n",
       "      <td>3.141319</td>\n",
       "      <td>4.538034</td>\n",
       "      <td>...</td>\n",
       "      <td>11.078009</td>\n",
       "      <td>10.647840</td>\n",
       "      <td>15.762899</td>\n",
       "      <td>14.220313</td>\n",
       "      <td>7.334793</td>\n",
       "      <td>2.947570</td>\n",
       "      <td>2.974370</td>\n",
       "      <td>14.276649</td>\n",
       "      <td>9.904402</td>\n",
       "      <td>6.743479</td>\n",
       "    </tr>\n",
       "  </tbody>\n",
       "</table>\n",
       "<p>7561 rows × 500 columns</p>\n",
       "</div>"
      ],
      "text/plain": [
       "           0         1         2         3         4          5         6    \\\n",
       "0     1.000000  1.000000  1.000000  1.000000  1.000000   1.000000  1.000000   \n",
       "1     1.003476  1.002794  0.989949  1.015536  1.002490   0.999460  1.002038   \n",
       "2     1.008729  1.001021  0.982996  1.031337  1.008566   0.998496  1.005155   \n",
       "3     0.999649  1.002328  0.982289  1.049418  1.023125   0.986071  1.001272   \n",
       "4     0.996046  1.010203  0.987212  1.041682  1.025321   0.972516  0.997067   \n",
       "...        ...       ...       ...       ...       ...        ...       ...   \n",
       "7556  4.109928  6.880432  4.863942  6.745330  9.107724  10.764264  6.677781   \n",
       "7557  4.111849  6.887051  4.831063  6.742052  9.173897  10.663746  6.744083   \n",
       "7558  4.056136  6.873850  4.773340  6.690272  9.122904  10.851024  6.696162   \n",
       "7559  4.056970  6.926666  4.793603  6.739362  9.226299  10.845864  6.744604   \n",
       "7560  4.090638  6.958670  4.707043  6.654962  9.240928  10.833937  6.815458   \n",
       "\n",
       "           7         8         9    ...        490        491        492  \\\n",
       "0     1.000000  1.000000  1.000000  ...   1.000000   1.000000   1.000000   \n",
       "1     1.013472  0.984643  0.999332  ...   0.994520   1.018168   0.990303   \n",
       "2     1.015866  0.988501  0.975690  ...   1.001740   1.010650   0.997201   \n",
       "3     1.012405  0.989202  0.985141  ...   0.992353   1.004324   0.999637   \n",
       "4     1.021304  0.989180  0.987222  ...   0.995012   0.997986   1.003889   \n",
       "...        ...       ...       ...  ...        ...        ...        ...   \n",
       "7556  6.465796  3.063371  4.545642  ...  11.298542  10.539544  16.015683   \n",
       "7557  6.522230  3.044182  4.543874  ...  11.339073  10.511545  15.985364   \n",
       "7558  6.512233  3.056515  4.556385  ...  11.422172  10.546932  16.005916   \n",
       "7559  6.556548  3.120641  4.548647  ...  11.292404  10.623164  15.857626   \n",
       "7560  6.502178  3.141319  4.538034  ...  11.078009  10.647840  15.762899   \n",
       "\n",
       "            493       494       495       496        497        498       499  \n",
       "0      1.000000  1.000000  1.000000  1.000000   1.000000   1.000000  1.000000  \n",
       "1      0.984783  1.005211  0.994892  1.005350   0.996715   1.005628  1.010195  \n",
       "2      0.982989  1.001870  0.998248  1.001303   1.007426   1.007092  1.010124  \n",
       "3      0.984865  0.993160  0.995830  1.009536   1.012117   0.996797  1.017444  \n",
       "4      0.989496  1.014860  0.983442  1.003959   1.009419   0.997659  1.041425  \n",
       "...         ...       ...       ...       ...        ...        ...       ...  \n",
       "7556  13.959319  7.306357  2.944775  2.994940  14.361417   9.895279  6.651459  \n",
       "7557  14.174282  7.313516  2.935340  2.981123  14.452473  10.003762  6.736877  \n",
       "7558  14.083811  7.281443  2.923786  2.953288  14.382468   9.949816  6.770365  \n",
       "7559  14.144808  7.273227  2.928940  2.960353  14.352674   9.959642  6.741293  \n",
       "7560  14.220313  7.334793  2.947570  2.974370  14.276649   9.904402  6.743479  \n",
       "\n",
       "[7561 rows x 500 columns]"
      ]
     },
     "execution_count": 48,
     "metadata": {},
     "output_type": "execute_result"
    }
   ],
   "source": [
    "# Running a Monte Carlo simulation to forecast 30 years cumulative returns\n",
    "import warnings\n",
    "\n",
    "warnings.filterwarnings('ignore')\n",
    "\n",
    "mc_simulation.calc_cumulative_return()"
   ]
  },
  {
   "cell_type": "code",
   "execution_count": 51,
   "metadata": {},
   "outputs": [
    {
     "data": {
      "image/png": "[encoded data removed]",
      "text/plain": [
       "<Figure size 640x480 with 1 Axes>"
      ]
     },
     "metadata": {},
     "output_type": "display_data"
    }
   ],
   "source": [
    "# Plot simulation outcomes\n",
    "line_plot = mc_simulation.plot_simulation()\n"
   ]
  },
  {
   "cell_type": "code",
   "execution_count": 52,
   "metadata": {},
   "outputs": [
    {
     "data": {
      "image/png": "[encoded data removed]",
      "text/plain": [
       "<Figure size 640x480 with 1 Axes>"
      ]
     },
     "metadata": {},
     "output_type": "display_data"
    }
   ],
   "source": [
    "# Plot probability distribution and confidence intervals\n",
    "dist_plot = mc_simulation.plot_distribution()"
   ]
  },
  {
   "cell_type": "markdown",
   "metadata": {},
   "source": [
    "### Retirement Analysis"
   ]
  },
  {
   "cell_type": "code",
   "execution_count": 50,
   "metadata": {},
   "outputs": [
    {
     "name": "stdout",
     "output_type": "stream",
     "text": [
      "count           500.000000\n",
      "mean              6.856358\n",
      "std               4.784503\n",
      "min               0.862533\n",
      "25%               3.483535\n",
      "50%               5.863358\n",
      "75%               8.893224\n",
      "max              45.254261\n",
      "95% CI Lower      1.376321\n",
      "95% CI Upper     19.365008\n",
      "Name: 7560, dtype: float64\n"
     ]
    }
   ],
   "source": [
    "# Fetch summary statistics from the Monte Carlo simulation results\n",
    "simulated_returns_data = {\n",
    "    \"mean\": list(mc_simulation.simulated_return.mean(axis=1)),\n",
    "    \"median\": list(mc_simulation.simulated_return.median(axis=1)),\n",
    "    \"min\": list(mc_simulation.simulated_return.min(axis=1)),\n",
    "    \"max\": list(mc_simulation.simulated_return.max(axis=1))\n",
    "}\n",
    "\n",
    "\n",
    "\n",
    "sum_stat = mc_simulation.summarize_cumulative_return()\n",
    "\n",
    "# Print summary statistics\n",
    "print(sum_stat)\n",
    "# print(simulated_returns_data)"
   ]
  },
  {
   "cell_type": "markdown",
   "metadata": {},
   "source": [
    "### Calculate the expected portfolio return at the `95%` lower and upper confidence intervals based on a `$20,000` initial investment."
   ]
  },
  {
   "cell_type": "code",
   "execution_count": 57,
   "metadata": {},
   "outputs": [
    {
     "name": "stdout",
     "output_type": "stream",
     "text": [
      "There is a 95% chance that an initial investment of $20000 in the portfolio over the next 30 years will end within in the range of $27526.43 and $387300.15\n"
     ]
    }
   ],
   "source": [
    "# Set initial investment\n",
    "initial_investment = 20000\n",
    "\n",
    "tbl = mc_simulation.summarize_cumulative_return()\n",
    "\n",
    "# Use the lower and upper `95%` confidence intervals to calculate the range of the possible outcomes of our $20,000\n",
    "ci_lower = round(tbl[8]*initial_investment,2)\n",
    "ci_upper = round(tbl[9]*initial_investment,2)\n",
    "\n",
    "# Print results\n",
    "print(f\"There is a 95% chance that an initial investment of ${initial_investment} in the portfolio\"\n",
    "      f\" over the next 30 years will end within in the range of\"\n",
    "      f\" ${ci_lower} and ${ci_upper}\")"
   ]
  },
  {
   "cell_type": "markdown",
   "metadata": {},
   "source": [
    "### Calculate the expected portfolio return at the `95%` lower and upper confidence intervals based on a `50%` increase in the initial investment."
   ]
  },
  {
   "cell_type": "code",
   "execution_count": 58,
   "metadata": {},
   "outputs": [
    {
     "name": "stdout",
     "output_type": "stream",
     "text": [
      "There is a 95% chance that an initial investment of $30000.0 in the portfolio over the next 30 years will end within in the range of $41289.64 and $580950.23\n"
     ]
    }
   ],
   "source": [
    "# Set initial investment\n",
    "initial_investment = 20000 * 1.5\n",
    "\n",
    "# Use the lower and upper `95%` confidence intervals to calculate the range of the possible outcomes of our $30,000\n",
    "\n",
    "ci_lower = round(tbl[8]*initial_investment,2)\n",
    "ci_upper = round(tbl[9]*initial_investment,2)\n",
    "\n",
    "# Print results\n",
    "print(f\"There is a 95% chance that an initial investment of ${initial_investment} in the portfolio\"\n",
    "      f\" over the next 30 years will end within in the range of\"\n",
    "      f\" ${ci_lower} and ${ci_upper}\")"
   ]
  },
  {
   "cell_type": "markdown",
   "metadata": {},
   "source": [
    "## Optional Challenge - Early Retirement\n",
    "\n",
    "\n",
    "### Five Years Retirement Option"
   ]
  },
  {
   "cell_type": "code",
   "execution_count": null,
   "metadata": {},
   "outputs": [],
   "source": [
    "# Configuring a Monte Carlo simulation to forecast 5 years cumulative returns\n",
    "# YOUR CODE HERE!"
   ]
  },
  {
   "cell_type": "code",
   "execution_count": null,
   "metadata": {},
   "outputs": [],
   "source": [
    "# Running a Monte Carlo simulation to forecast 5 years cumulative returns\n",
    "# YOUR CODE HERE!"
   ]
  },
  {
   "cell_type": "code",
   "execution_count": null,
   "metadata": {},
   "outputs": [],
   "source": [
    "# Plot simulation outcomes\n",
    "# YOUR CODE HERE!"
   ]
  },
  {
   "cell_type": "code",
   "execution_count": null,
   "metadata": {},
   "outputs": [],
   "source": [
    "# Plot probability distribution and confidence intervals\n",
    "# YOUR CODE HERE!"
   ]
  },
  {
   "cell_type": "code",
   "execution_count": null,
   "metadata": {},
   "outputs": [],
   "source": [
    "# Fetch summary statistics from the Monte Carlo simulation results\n",
    "# YOUR CODE HERE!\n",
    "\n",
    "# Print summary statistics\n",
    "# YOUR CODE HERE!"
   ]
  },
  {
   "cell_type": "code",
   "execution_count": null,
   "metadata": {},
   "outputs": [],
   "source": [
    "# Set initial investment\n",
    "# YOUR CODE HERE!\n",
    "\n",
    "# Use the lower and upper `95%` confidence intervals to calculate the range of the possible outcomes of our $60,000\n",
    "# YOUR CODE HERE!\n",
    "\n",
    "# Print results\n",
    "print(f\"There is a 95% chance that an initial investment of ${initial_investment} in the portfolio\"\n",
    "      f\" over the next 5 years will end within in the range of\"\n",
    "      f\" ${ci_lower_five} and ${ci_upper_five}\")"
   ]
  },
  {
   "cell_type": "markdown",
   "metadata": {},
   "source": [
    "### Ten Years Retirement Option"
   ]
  },
  {
   "cell_type": "code",
   "execution_count": null,
   "metadata": {},
   "outputs": [],
   "source": [
    "# Configuring a Monte Carlo simulation to forecast 10 years cumulative returns\n",
    "# YOUR CODE HERE!"
   ]
  },
  {
   "cell_type": "code",
   "execution_count": null,
   "metadata": {},
   "outputs": [],
   "source": [
    "# Running a Monte Carlo simulation to forecast 10 years cumulative returns\n",
    "# YOUR CODE HERE!"
   ]
  },
  {
   "cell_type": "code",
   "execution_count": null,
   "metadata": {},
   "outputs": [],
   "source": [
    "# Plot simulation outcomes\n",
    "# YOUR CODE HERE!"
   ]
  },
  {
   "cell_type": "code",
   "execution_count": null,
   "metadata": {},
   "outputs": [],
   "source": [
    "# Plot probability distribution and confidence intervals\n",
    "# YOUR CODE HERE!"
   ]
  },
  {
   "cell_type": "code",
   "execution_count": null,
   "metadata": {},
   "outputs": [],
   "source": [
    "# Fetch summary statistics from the Monte Carlo simulation results\n",
    "# YOUR CODE HERE!\n",
    "\n",
    "# Print summary statistics\n",
    "# YOUR CODE HERE!"
   ]
  },
  {
   "cell_type": "code",
   "execution_count": null,
   "metadata": {},
   "outputs": [],
   "source": [
    "# Set initial investment\n",
    "# YOUR CODE HERE!\n",
    "\n",
    "# Use the lower and upper `95%` confidence intervals to calculate the range of the possible outcomes of our $60,000\n",
    "# YOUR CODE HERE!\n",
    "\n",
    "# Print results\n",
    "print(f\"There is a 95% chance that an initial investment of ${initial_investment} in the portfolio\"\n",
    "      f\" over the next 10 years will end within in the range of\"\n",
    "      f\" ${ci_lower_ten} and ${ci_upper_ten}\")"
   ]
  },
  {
   "cell_type": "code",
   "execution_count": null,
   "metadata": {},
   "outputs": [],
   "source": []
  }
 ],
 "metadata": {
  "kernelspec": {
   "display_name": "Python 3 (ipykernel)",
   "language": "python",
   "name": "python3"
  },
  "language_info": {
   "codemirror_mode": {
    "name": "ipython",
    "version": 3
   },
   "file_extension": ".py",
   "mimetype": "text/x-python",
   "name": "python",
   "nbconvert_exporter": "python",
   "pygments_lexer": "ipython3",
   "version": "3.11.4"
  },
  "nteract": {
   "version": "0.28.0"
  }
 },
 "nbformat": 4,
 "nbformat_minor": 4
}
